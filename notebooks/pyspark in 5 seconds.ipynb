{
 "cells": [
  {
   "cell_type": "markdown",
   "metadata": {},
   "source": [
    "What is this Spark thing ? How can I try it out quickly (without spending time wrangling with `PYTHONHOME`, `SPARK_HOME`, etc...) ?"
   ]
  },
  {
   "cell_type": "code",
   "execution_count": 1,
   "metadata": {
    "collapsed": true
   },
   "outputs": [],
   "source": [
    "import findspark\n",
    "findspark.init()\n",
    "\n",
    "import pyspark\n",
    "\n",
    "conf = pyspark.conf.SparkConf()\n",
    "(conf.setMaster('local[2]')\n",
    " .setAppName('ipython-notebook')\n",
    " .set(\"spark.executor.memory\", \"2g\"))\n",
    "\n",
    "sc = pyspark.SparkContext(conf=conf)"
   ]
  },
  {
   "cell_type": "markdown",
   "metadata": {},
   "source": [
    "Done. We have a spark context `sc` to use with a tiny local spark cluster with 2 nodes (will work just fine on a multicore machine)."
   ]
  },
  {
   "cell_type": "code",
   "execution_count": 2,
   "metadata": {
    "collapsed": false
   },
   "outputs": [
    {
     "name": "stdout",
     "output_type": "stream",
     "text": [
      "Number of partitions: 3\n"
     ]
    }
   ],
   "source": [
    "# distribute data into 3 slices\n",
    "import time\n",
    "rdd = sc.parallelize((time.time() for x in range(7)), numSlices=3)\n",
    "print(\"Number of partitions: {}\".format(rdd.getNumPartitions()))"
   ]
  },
  {
   "cell_type": "markdown",
   "metadata": {},
   "source": [
    "List the elements in each partition"
   ]
  },
  {
   "cell_type": "code",
   "execution_count": 3,
   "metadata": {
    "collapsed": false
   },
   "outputs": [
    {
     "name": "stdout",
     "output_type": "stream",
     "text": [
      "[[1483215251.9348981, 1483215251.9348989], [1483215251.934899, 1483215251.9348993], [1483215251.9348993, 1483215251.9348996, 1483215251.9348998]]\n"
     ]
    }
   ],
   "source": [
    "print(rdd.glom().collect())"
   ]
  }
 ],
 "metadata": {
  "kernelspec": {
   "display_name": "Python 3",
   "language": "python",
   "name": "python3"
  },
  "language_info": {
   "codemirror_mode": {
    "name": "ipython",
    "version": 3
   },
   "file_extension": ".py",
   "mimetype": "text/x-python",
   "name": "python",
   "nbconvert_exporter": "python",
   "pygments_lexer": "ipython3",
   "version": "3.5.2"
  }
 },
 "nbformat": 4,
 "nbformat_minor": 2
}
